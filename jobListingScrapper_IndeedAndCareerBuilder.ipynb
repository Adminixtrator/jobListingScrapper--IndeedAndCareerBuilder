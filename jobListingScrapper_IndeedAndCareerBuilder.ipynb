{
  "nbformat": 4,
  "nbformat_minor": 0,
  "metadata": {
    "colab": {
      "name": "jobListingScrapper--IndeedAndCareerBuilder.ipynb",
      "provenance": [],
      "collapsed_sections": []
    },
    "kernelspec": {
      "name": "python3",
      "display_name": "Python 3"
    }
  },
  "cells": [
    {
      "cell_type": "markdown",
      "metadata": {
        "id": "BwnEfv-BRsUY"
      },
      "source": [
        "# Not exactly ***Open Source*** yunno, so no comments ✌️😌✌️"
      ]
    },
    {
      "cell_type": "code",
      "metadata": {
        "id": "QFmG106cRiCO"
      },
      "source": [
        "import requests\r\n",
        "import bs4\r\n",
        "from bs4 import BeautifulSoup\r\n",
        "import pandas as pd\r\n",
        "import time\r\n",
        "import urllib"
      ],
      "execution_count": 1,
      "outputs": []
    },
    {
      "cell_type": "markdown",
      "metadata": {
        "id": "RJ-RFvKgLvUe"
      },
      "source": [
        "# **Indeed.com**"
      ]
    },
    {
      "cell_type": "code",
      "metadata": {
        "id": "2rjvJO7uWDVW"
      },
      "source": [
        "FilteredURL = 'https://www.indeed.com/jobs?q=Mobile+Developer+$111,000&l=California&rbl=San+Francisco,+CA&jlid=6cf5e6d389fd6d6b&jt=fulltime&explvl=mid_level&fromage=1&remotejob=032b3046-06a3-4876-8dfd-474eb5e7ed11'\r\n",
        "URL = \"https://www.indeed.com/jobs?q=Software+Developer&l=California\"\r\n",
        "page = requests.get(URL)\r\n",
        "soup = BeautifulSoup(page.text, \"html.parser\")\r\n",
        "print(soup.prettify())"
      ],
      "execution_count": null,
      "outputs": []
    },
    {
      "cell_type": "markdown",
      "metadata": {
        "id": "jsJsyHfdVNR_"
      },
      "source": [
        "# **Indeed**\r\n",
        "\r\n",
        "**Salary Estimate:** +$95,000\r\n",
        "\r\n",
        "**Location:** &l=San+Francisco\r\n",
        "\r\n",
        "**Job Type:** &jt=parttime\r\n",
        "\r\n",
        "**Experience Level:** &explvl=mid_level\r\n",
        "\r\n",
        "**Date Posted:** &fromage=1\r\n",
        "\r\n",
        "**Remote*(True)*:** &forceLocation=032b3046-06a3-4876-8dfd-474eb5e7ed11\r\n",
        "\r\n",
        "**Completed URL:** https://www.indeed.com/jobs?q=Mobile+Developer+$95,000&l=San+Francisco&explvl=senior_level&fromage=1&forceLocation=032b3046-06a3-4876-8dfd-474eb5e7ed11"
      ]
    },
    {
      "cell_type": "code",
      "metadata": {
        "colab": {
          "base_uri": "https://localhost:8080/"
        },
        "id": "DocgmzXmWeUZ",
        "outputId": "6a0c4fb3-518c-4213-f305-52a0c9b72176"
      },
      "source": [
        "def extract_job_title_from_result(soup):\r\n",
        "  jobs = []\r\n",
        "  for div in soup.find_all(name=\"div\", attrs={\"class\": \"row\"}):\r\n",
        "    for a in div.find_all(name=\"a\", attrs={\"data-tn-element\": \"jobTitle\"}):\r\n",
        "      jobs.append(a[\"title\"])\r\n",
        "  return jobs\r\n",
        "\r\n",
        "extract_job_title_from_result(soup)"
      ],
      "execution_count": 3,
      "outputs": [
        {
          "output_type": "execute_result",
          "data": {
            "text/plain": [
              "['Junior Software Engineer',\n",
              " 'Junior Software Developer',\n",
              " 'Front End Developer',\n",
              " 'Entry Level Software Developer',\n",
              " 'Jr. Software Developer',\n",
              " 'Software Developer / Software Engineer, C/C++',\n",
              " 'Software Developer',\n",
              " 'Software Developer',\n",
              " 'Software Developer Engineer (SK)',\n",
              " 'Software Engineer (Recent Graduate)',\n",
              " 'Software Developer',\n",
              " 'Software Developer',\n",
              " 'Jr. Software Developer',\n",
              " 'HPC Software Developer',\n",
              " 'Software Engineer I']"
            ]
          },
          "metadata": {
            "tags": []
          },
          "execution_count": 3
        }
      ]
    },
    {
      "cell_type": "code",
      "metadata": {
        "colab": {
          "base_uri": "https://localhost:8080/"
        },
        "id": "oywKE-QZjPme",
        "outputId": "869abf29-6820-43cd-9ac1-225c8a53cec3"
      },
      "source": [
        "def extract_company_from_result(soup): \r\n",
        "  companies = []\r\n",
        "  for div in soup.find_all(name=\"div\", attrs={\"class\": \"row\"}):\r\n",
        "    company = div.find_all(name=\"span\", attrs={\"class\": \"company\"})\r\n",
        "    if len(company) > 0:\r\n",
        "      for b in company:\r\n",
        "        companies.append(b.text.strip())\r\n",
        "    else:\r\n",
        "      sec_try = div.find_all(name=\"span\", attrs={\"class\": \"result-link-source\"})\r\n",
        "      for span in sec_try:\r\n",
        "        companies.append(span.text.strip())\r\n",
        "  return companies\r\n",
        " \r\n",
        "extract_company_from_result(soup)"
      ],
      "execution_count": 4,
      "outputs": [
        {
          "output_type": "execute_result",
          "data": {
            "text/plain": [
              "['Vibrant America',\n",
              " 'Conversio Health / IHC',\n",
              " 'Warrior Made',\n",
              " 'Smoothstack',\n",
              " 'Amazon.com Services LLC',\n",
              " 'General Atomics and Affiliated Companies',\n",
              " 'Property Matrix',\n",
              " 'Hulu',\n",
              " 'Intel',\n",
              " 'Acorns',\n",
              " 'General Dynamics Information Technology',\n",
              " 'Fabric8Labs',\n",
              " 'Centauri',\n",
              " 'General Atomics and Affiliated Companies',\n",
              " 'The Trade Desk']"
            ]
          },
          "metadata": {
            "tags": []
          },
          "execution_count": 4
        }
      ]
    },
    {
      "cell_type": "code",
      "metadata": {
        "colab": {
          "base_uri": "https://localhost:8080/"
        },
        "id": "nzG1c-vApV4R",
        "outputId": "9fef3135-403d-4614-e8c1-a3447c1c0e6f"
      },
      "source": [
        "def extract_refUrl_from_result(soup):\r\n",
        "  urls = []\r\n",
        "  for div in soup.find_all(name=\"div\", attrs={\"class\": \"row\"}):\r\n",
        "    for a in div.find_all(name=\"a\", attrs={\"data-tn-element\": \"jobTitle\"}):\r\n",
        "      urls.append(a['href'])\r\n",
        "  return urls\r\n",
        "\r\n",
        "extract_refUrl_from_result(soup)"
      ],
      "execution_count": 5,
      "outputs": [
        {
          "output_type": "execute_result",
          "data": {
            "text/plain": [
              "['/pagead/clk?mo=r&ad=-6NYlbfkN0CTZoiWrXYl9HJCh0ld2mmSBYY3WJawQfwHCBcIc1Yk0JLCqqXWFpc5qry_hC0h4_YeLjFBvYR1onQjlXn1AOORLt0PyH4Y1igOxXCLd6uKrho_naenA6emUZvhZIv2Dp8W13JK_FIUd68NvIVr8e92yKSdm2neQjCBRTf5svAloYYjuqhhc1b4tRuDJgmWpYnJgohmY6cJav_MDkQWecCtIMJYUvoJKjVnhqf3qq7CuofgK80qbVYcHpCoFb8skh7bEshjEfwmoTK3O64WaT8CnajckzQyysC3YJq8meYpzrviD-Y4_Vng_dr4_emQ8CffEGAJMkrET0Tj2_lgvz_BYCqpHNr4USJcL4RkPA4K6yDTRb_BN7lO5CHbZ8SLRXcMtFpk-ftNQAEyihd-CV68kKGVXwpxvRiB8JLek9ckGl--EQkxwTpIPIDDhvP8gQVlzfeKWDJvaY9pk5E00Lou&p=0&fvj=1&vjs=3',\n",
              " '/pagead/clk?mo=r&ad=-6NYlbfkN0CD7psQTfQjJQv5vFAzaxYww07_EAYH4kMn0nWChg2dtbcO0jfimfU1AKr_sWvDMeteq2QzYNkzdpWOgzQIZ4FjRO4o6u_VTNVdI0zBr9uS5ZReDRMvDTJ7-6MEVzLqXTgI7viBso4IJCVSt3SQu_sBl92Ute3GUgu3ewS-yOUUqINYdF7595ClkgWwJm46iHYo0WGblh2CqYIa_PijcvT-iNbPqhYlit-1J-6CybpCqMZldm8uOVjz7egBWgWLboWmo7RAqR1Mf3dfkwQ8YfHDNM0bOqaxpfzc8i1bsN0AHmXTEFf9mKs9q1TmVs3hGiOs1NMF9MGhho5CWnqYWM8iJ5lXRDZCMG729x8eSJN7LebksPTFY7wDCRJxXWIW0KkqgOhOQoc8WIMGyqF6tLkK1mTC1ep5_6tMDPN-WlJzNHN-UbeAYCgXpkVCLpVxmszvcPdiS0Xhw_OBnGtEnpFO&p=1&fvj=1&vjs=3',\n",
              " '/pagead/clk?mo=r&ad=-6NYlbfkN0DO-yFSE040I_0egbk0yXreg0DCjjKbqoCkGZk7-BwQ34fLGEdk2jqQv1Ll17u34dFzSqWnjkWccF8bvQJaYegmpZkluJ-00O8vN8T7Xcm497XZKWy6tzL6P8GattNjE419TVrQ4GsY7n5rSh1cTephUZB-Tlx3zYCILlOun_JxzT4NG3MSehZNFIeDUrKRtwb97MGTljN37YOCC7x1DmYr83QQIGyIog6TqBOuqammVVu0Oc5zDiIFfQvmp-G9omENM30cT9zmbdLpCrsaRiaeQ-qLoJOEoRGR73IaprrUHzWKmMT0IwduDBSQ2WM2QGKhkYuJxLfDZi-GK2qe_Ux23mEQIc3zmPnYfwBPWomStwOejFUGudmSaU-TdYNQlmtfBMzDrA35zTnfVHdPLmRqjOjd286Nl0yLJTxo7IdJXuYx0p344Tyb_i9NCpK8T3ntkmtnvlFACHGaGx42u21v&p=2&fvj=1&vjs=3',\n",
              " '/pagead/clk?mo=r&ad=-6NYlbfkN0ChdE_-3s9UeG5xYsqO3th9AddXeBq2OieSfAM8evhI-HUZpuQaiuzQc33v7SXoh9w3fOChrNSzJcTy_8FRa1fReeWPVBneE_KlwgXb7y7fGoIHaC7p9LpFyfVPGOhmP73OtqFVYY4W1CH9PE73Ryqia1A4FL7r5xQuI8kBJR_ZYWoSeYcKLRZ27CmNi8xZYdDE40z18oH5TKlxbv6BdagHjPfgNJWoPIGXH8DYt-dqhqAhVasQJ6vZLpHEHd9P2BLfdY5QP96CsASJRczo7zF8N6Pe11yogHP_PaA1ztIlEXnsq4GEyF7Ne7QQWq3jIDP1utEg_z9z5ZONi1xhO1PHJx3ZgjOsDbtzvOu5qzoFNKXQkEVltX0TJ7gLstDVVJOhhYV6FIjBdZJxur1cCYIhi22Xbp6Zgk5s67xJ_pvikq7ldb6oWHu7n6JWIsD7-q1C21iSTOXMGdQ7Ro0_1HP3vv4EoVqB6H0=&p=3&fvj=1&vjs=3',\n",
              " '/rc/clk?jk=92f369150ab58c86&fccid=fe2d21eef233e94a&vjs=3',\n",
              " '/rc/clk?jk=7bc078e7c7946f70&fccid=59867e5a232c7b5c&vjs=3',\n",
              " '/company/Property-Matrix/jobs/Software-Developer-1f216f1abb38ff77?fccid=fd1ea58cbd0e81fe&vjs=3',\n",
              " '/rc/clk?jk=40b673e5a61c61fb&fccid=6824fc1f087bd63e&vjs=3',\n",
              " '/rc/clk?jk=27f75b20170e4329&fccid=f1374be6a45f4b8a&vjs=3',\n",
              " '/rc/clk?jk=9b6cad7f40080b62&fccid=ba0b4ef452449c10&vjs=3',\n",
              " '/rc/clk?jk=a81017290088c0ac&fccid=11caadcdc98800d4&vjs=3',\n",
              " '/company/Fabric8Labs/jobs/Software-Developer-06cde1eaa6098d02?fccid=f173feb154bc21e6&vjs=3',\n",
              " '/rc/clk?jk=4e01b3471aad0dec&fccid=2540607df11515db&vjs=3',\n",
              " '/rc/clk?jk=c55201f08b690c42&fccid=59867e5a232c7b5c&vjs=3',\n",
              " '/rc/clk?jk=1350de6f10987edd&fccid=4899a85209d20142&vjs=3']"
            ]
          },
          "metadata": {
            "tags": []
          },
          "execution_count": 5
        }
      ]
    },
    {
      "cell_type": "code",
      "metadata": {
        "colab": {
          "base_uri": "https://localhost:8080/"
        },
        "id": "1sgsPOB54Cev",
        "outputId": "a61f59c4-aaa0-479f-c9fc-03e38b37cc52"
      },
      "source": [
        "def extract_locations_from_result(soup):\r\n",
        "  locations = []\r\n",
        "  for div in soup.find_all(name=\"div\", attrs={\"class\": \"sjcl\"}):\r\n",
        "    for a in div.find_all(name=\"div\", attrs={\"class\": \"recJobLoc\"}):\r\n",
        "      locations.append(a['data-rc-loc'].strip())\r\n",
        "  return locations\r\n",
        "\r\n",
        "extract_locations_from_result(soup)"
      ],
      "execution_count": 6,
      "outputs": [
        {
          "output_type": "execute_result",
          "data": {
            "text/plain": [
              "['San Carlos, CA',\n",
              " 'California',\n",
              " 'Santa Cruz, CA',\n",
              " 'United States',\n",
              " 'San Luis Obispo, CA',\n",
              " 'San Diego, CA',\n",
              " 'Culver City, CA',\n",
              " 'Santa Monica, CA',\n",
              " 'Folsom, CA',\n",
              " 'California',\n",
              " 'San Diego, CA',\n",
              " 'San Diego, CA',\n",
              " 'Carlsbad, CA',\n",
              " 'San Diego, CA',\n",
              " 'Irvine, CA']"
            ]
          },
          "metadata": {
            "tags": []
          },
          "execution_count": 6
        }
      ]
    },
    {
      "cell_type": "code",
      "metadata": {
        "colab": {
          "base_uri": "https://localhost:8080/"
        },
        "id": "u1RGWy2F8lig",
        "outputId": "cacb1fba-81f4-4b39-8cb6-b52149e05e35"
      },
      "source": [
        "def extract_jobPolicy_from_result(soup):\r\n",
        "  jobPolicy = []\r\n",
        "  for div in soup.find_all(name=\"div\", attrs={\"class\": \"sjcl\"}):\r\n",
        "    for a in div.find_all(name=\"span\", attrs={\"class\": \"remote\"}), div.find_all(name=\"div\", attrs={\"class\": \"recJobLoc\"}):\r\n",
        "      if a == []:\r\n",
        "        jobPolicy.append(' ')\r\n",
        "      else:\r\n",
        "        try:\r\n",
        "          junk = a[0]['data-rc-loc']\r\n",
        "        except:\r\n",
        "          jobPolicy.append(a[0].text.strip())\r\n",
        "  return jobPolicy\r\n",
        "\r\n",
        "extract_jobPolicy_from_result(soup)"
      ],
      "execution_count": 7,
      "outputs": [
        {
          "output_type": "execute_result",
          "data": {
            "text/plain": [
              "[' ',\n",
              " 'Remote',\n",
              " 'Temporarily remote',\n",
              " 'Remote',\n",
              " ' ',\n",
              " ' ',\n",
              " 'Temporarily remote',\n",
              " ' ',\n",
              " ' ',\n",
              " 'Remote',\n",
              " ' ',\n",
              " ' ',\n",
              " ' ',\n",
              " ' ',\n",
              " ' ']"
            ]
          },
          "metadata": {
            "tags": []
          },
          "execution_count": 7
        }
      ]
    },
    {
      "cell_type": "code",
      "metadata": {
        "id": "S6LBbQQI1Fmm"
      },
      "source": [
        "# UNABLE TO SCRAPE\r\n",
        "\r\n",
        "# def extract_salary_from_result(soup): \r\n",
        "#   salaries = []\r\n",
        "#   for div in soup.find_all(name=\"div\", attrs={\"class\": \"row\"}):\r\n",
        "#     for a in div.find_all(name=\"a\", attrs={\"data-tn-element\": \"jobTitle\"}):\r\n",
        "      # _URL = \"https://www.indeed.com\"+a['href']\r\n",
        "      # print(_URL)\r\n",
        "      # _page = requests.get(_URL)\r\n",
        "      # _soup = BeautifulSoup(_page.text, \"html.parser\")\r\n",
        "      # for b in _soup.find_all(name=\"div\", attrs={\"class\": \"jobDetailsSection\"}):\r\n",
        "        # salary = b.find_all(name=\"span\")\r\n",
        "        # print(b.text.strip())\r\n",
        "        # salaries.append(salary.text.strip())\r\n",
        "#   return salaries\r\n",
        "\r\n",
        "# extract_salary_from_result(soup)"
      ],
      "execution_count": 8,
      "outputs": []
    },
    {
      "cell_type": "code",
      "metadata": {
        "colab": {
          "base_uri": "https://localhost:8080/"
        },
        "id": "Hc5t9ut61P3f",
        "outputId": "c73ee5bb-c394-420a-aaca-e16803016884"
      },
      "source": [
        "def extract_summary_from_result(soup): \r\n",
        "  summaries = []\r\n",
        "  spans = soup.findAll(\"div\", attrs={\"class\": \"summary\"})\r\n",
        "  for span in spans:\r\n",
        "    summaries.append(span.text.strip())\r\n",
        "  return summaries\r\n",
        "extract_summary_from_result(soup)"
      ],
      "execution_count": 9,
      "outputs": [
        {
          "output_type": "execute_result",
          "data": {
            "text/plain": [
              "['As the Jr. Software Developer, you will work with business groups and Senior Software Developers to improve old applications and implement new ones.',\n",
              " 'Maintain existing codebase (PHP/MySQL/React).\\nDebug and respond to dev-related help tickets.\\nRefactor and improve existing codebase from PHP to React.',\n",
              " 'Write clean code for new features, supporting existing features and fixing bugs.\\nTest your work and deliver fully functional product features.',\n",
              " 'O Basic knowledge of Java, C#, .\\nNet, Python, or similar programming languages.\\nO Hands-on experience or bachelor’s degree or minor in any of the following:…',\n",
              " \"Our full-time software developers are willing and able to mentor exceptional student developers.\\nCurrently enrolled in a Bachelor's program in Computer Science…\",\n",
              " 'Formulate detailed plans for the implementation of software solutions.\\nEvaluates integration of software applications with the overall computing environment.',\n",
              " 'Therefore, we seek to employ determined high-performing software developers with a passion for coding that results in transformational business outcomes through…',\n",
              " \"Develop software & infrastructure that powers the Hulu.com non-subscriber experience.\\nHulu's Web team is seeking a Software Developer with a passion for…\",\n",
              " 'Systems hardware software product development.\\nDevelopment process through the entire software lifecycle.\\nWeb application development or working experience as…',\n",
              " 'Ownership of the software you produce.\\nAcorns is seeking prospective college graduates for entry level software engineering positions upon graduation for all of…',\n",
              " '3 years of experience coding software.\\nDeveloping feature enhancements and addressing bugs for several different applications.',\n",
              " 'Knowledge of basic analysis and presentation software (Excel, Powerpoint).\\nThe ideal candidate will be a self-motivated individual who is comfortable in a hands…',\n",
              " 'Design & develop system software for our customers.\\nWork with a team lead to define software requirements.\\nMinimum of 1-3 years of software development, object…',\n",
              " 'Communicates and collaborates with physicists and other software developers for the resolution of technical challenges and clarification of scientific…',\n",
              " 'You have a sustained track record of making significant, self-directed, and end-to-end contributions to large and impactful software projects.']"
            ]
          },
          "metadata": {
            "tags": []
          },
          "execution_count": 9
        }
      ]
    },
    {
      "cell_type": "code",
      "metadata": {
        "colab": {
          "base_uri": "https://localhost:8080/"
        },
        "id": "kSZf88WHmlCf",
        "outputId": "f1a23cc2-f83e-4bf5-cf49-10b9b6a503cd"
      },
      "source": [
        "def extract_job_age_from_result(soup):\r\n",
        "  jobAge = []\r\n",
        "  index = 0\r\n",
        "  for div in soup.find_all(name=\"div\", attrs={\"class\": \"row\"}):\r\n",
        "    age = div.find_all(name=\"span\", attrs={\"class\": \"date\"})\r\n",
        "    for b in age:\r\n",
        "      jobAge.append(b.text.strip())\r\n",
        "\r\n",
        "  return jobAge\r\n",
        "\r\n",
        "extract_job_age_from_result(soup)"
      ],
      "execution_count": 10,
      "outputs": [
        {
          "output_type": "execute_result",
          "data": {
            "text/plain": [
              "['5 days ago',\n",
              " '30+ days ago',\n",
              " '30+ days ago',\n",
              " '30+ days ago',\n",
              " '30+ days ago',\n",
              " 'Today',\n",
              " '1 day ago',\n",
              " '27 days ago',\n",
              " '1 day ago',\n",
              " '30+ days ago',\n",
              " '2 days ago',\n",
              " 'Just posted',\n",
              " 'Just posted',\n",
              " 'Today',\n",
              " 'Just posted']"
            ]
          },
          "metadata": {
            "tags": []
          },
          "execution_count": 10
        }
      ]
    },
    {
      "cell_type": "code",
      "metadata": {
        "id": "HcKP_aY83uKg"
      },
      "source": [
        ""
      ],
      "execution_count": 10,
      "outputs": []
    },
    {
      "cell_type": "markdown",
      "metadata": {
        "id": "SUYBVuflL0vB"
      },
      "source": [
        "# **Careerbuilder.com**"
      ]
    },
    {
      "cell_type": "code",
      "metadata": {
        "id": "NsFNYTCGanpS"
      },
      "source": [
        "_URL = \"https://www.careerbuilder.com/jobs?keywords=Data+Analyst&location=California&page_number=2\"\r\n",
        "_page = requests.get(_URL)\r\n",
        "_soup = BeautifulSoup(_page.text, \"html.parser\")\r\n",
        "print(_soup.prettify())"
      ],
      "execution_count": null,
      "outputs": []
    },
    {
      "cell_type": "markdown",
      "metadata": {
        "id": "rQJrcqDxug_L"
      },
      "source": [
        "# **Careerbuilder**\r\n",
        "\r\n",
        "**Salary Estimate:** pay=20\r\n",
        "\r\n",
        "**Location:** &location=San+Francisco\r\n",
        "\r\n",
        "**Job Type:** &emp=jtpt\r\n",
        "\r\n",
        "**Experience Level:** \r\n",
        "\r\n",
        "**Date Posted:** &posted=7\r\n",
        "\r\n",
        "**Remote*(True)*:** &cb_workhome=true\r\n",
        "\r\n",
        "**Completed URL:** https://www.careerbuilder.com/jobs?pay=40&location=San+Francisco&emp=jtpt&posted=7&cb_workhome=false"
      ]
    },
    {
      "cell_type": "code",
      "metadata": {
        "colab": {
          "base_uri": "https://localhost:8080/"
        },
        "id": "D5OJSYDcanl_",
        "outputId": "a712426d-ce9c-4a44-ef06-9cbe3835b2b1"
      },
      "source": [
        "def extract_job_title_from_result(soup):\r\n",
        "  jobs = []\r\n",
        "  for div in soup.find_all(name=\"div\", attrs={\"id\": \"jobs_collection\"}):\r\n",
        "    for a in div.find_all(name=\"div\", attrs={\"class\": \"b\"}):\r\n",
        "      jobs.append(a.text)\r\n",
        "  return jobs\r\n",
        "\r\n",
        "extract_job_title_from_result(soup)"
      ],
      "execution_count": 12,
      "outputs": [
        {
          "output_type": "execute_result",
          "data": {
            "text/plain": [
              "[]"
            ]
          },
          "metadata": {
            "tags": []
          },
          "execution_count": 12
        }
      ]
    },
    {
      "cell_type": "code",
      "metadata": {
        "colab": {
          "base_uri": "https://localhost:8080/"
        },
        "id": "cT9UmLGeanit",
        "outputId": "4e4a2111-1ac0-481c-88f7-0476d058bd57"
      },
      "source": [
        "def extract_company_from_result(soup): \r\n",
        "  companies = []\r\n",
        "  index = 0\r\n",
        "  for div in soup.find_all(name=\"div\", attrs={\"id\": \"jobs_collection\"}):\r\n",
        "    company = div.find_all(name=\"span\")\r\n",
        "    for b in company:\r\n",
        "      while index < 75:\r\n",
        "        if company[index].text.strip().find('-') < 0:\r\n",
        "          companies.append(company[index].text.strip())\r\n",
        "        else:\r\n",
        "          if company[index-1].text.strip() != 'Contractor':\r\n",
        "            companies.append(company[index-1].text.strip())\r\n",
        "          else:\r\n",
        "            companies.append(None)\r\n",
        "        index +=3\r\n",
        "  return companies\r\n",
        " \r\n",
        "extract_company_from_result(soup)"
      ],
      "execution_count": 13,
      "outputs": [
        {
          "output_type": "execute_result",
          "data": {
            "text/plain": [
              "[]"
            ]
          },
          "metadata": {
            "tags": []
          },
          "execution_count": 13
        }
      ]
    },
    {
      "cell_type": "code",
      "metadata": {
        "colab": {
          "base_uri": "https://localhost:8080/"
        },
        "id": "taxMBLtlanfV",
        "outputId": "540b6eb9-9173-482c-cafb-8b11fb2e3364"
      },
      "source": [
        "def extract_refUrl_from_result(soup):\r\n",
        "  urls = []\r\n",
        "  for div in soup.find_all(name=\"div\", attrs={\"id\": \"jobs_collection\"}):\r\n",
        "    for a in div.find_all(name=\"a\", attrs={\"class\": \"block\"}):\r\n",
        "      urls.append(a['href'])\r\n",
        "  return urls\r\n",
        "\r\n",
        "extract_refUrl_from_result(soup)"
      ],
      "execution_count": 14,
      "outputs": [
        {
          "output_type": "execute_result",
          "data": {
            "text/plain": [
              "[]"
            ]
          },
          "metadata": {
            "tags": []
          },
          "execution_count": 14
        }
      ]
    },
    {
      "cell_type": "code",
      "metadata": {
        "colab": {
          "base_uri": "https://localhost:8080/"
        },
        "id": "Smjbu4Qkanb3",
        "outputId": "4b4b9453-a079-4acf-f94b-1f62c3d3d9f1"
      },
      "source": [
        "def extract_locations_from_result(soup): \r\n",
        "  locations = []\r\n",
        "  index = 1\r\n",
        "  for div in soup.find_all(name=\"div\", attrs={\"id\": \"jobs_collection\"}):\r\n",
        "    location = div.find_all(name=\"span\")\r\n",
        "    for b in location:\r\n",
        "      while index < 75:\r\n",
        "        if location[index].text.strip().find('-') < 0:\r\n",
        "          locations.append(location[index-3].text.strip())\r\n",
        "        elif location[index].text.strip() == 'Full-Time':\r\n",
        "          locations.append(location[index-1].text.strip())\r\n",
        "        else:\r\n",
        "          locations.append(location[index].text.strip())\r\n",
        "        index +=3\r\n",
        "  return locations\r\n",
        "\r\n",
        "extract_locations_from_result(soup)"
      ],
      "execution_count": 15,
      "outputs": [
        {
          "output_type": "execute_result",
          "data": {
            "text/plain": [
              "[]"
            ]
          },
          "metadata": {
            "tags": []
          },
          "execution_count": 15
        }
      ]
    },
    {
      "cell_type": "code",
      "metadata": {
        "colab": {
          "base_uri": "https://localhost:8080/"
        },
        "id": "w3PhJTDRanWB",
        "outputId": "1896c162-53a2-4981-a521-1fb4be9fc72f"
      },
      "source": [
        "def extract_jobPolicy_from_result(soup): \r\n",
        "  jobPolicy = []\r\n",
        "  index = 2\r\n",
        "  for div in soup.find_all(name=\"div\", attrs={\"id\": \"jobs_collection\"}):\r\n",
        "    policy = div.find_all(name=\"span\")\r\n",
        "    for b in policy:\r\n",
        "      while index < 74:\r\n",
        "        if len(policy[index].text.strip().split(' ')) > 1:\r\n",
        "          if len(policy[index-1].text.strip().split(' ')) > 1:\r\n",
        "            jobPolicy.append(policy[index-3].text.strip())\r\n",
        "          else:\r\n",
        "            jobPolicy.append(policy[index-1].text.strip())\r\n",
        "        elif policy[index].text.strip().find('-') < 0 and len(policy[index].text.strip().split(' ')) < 2:\r\n",
        "          jobPolicy.append(policy[index-3].text.strip())\r\n",
        "        else:\r\n",
        "          jobPolicy.append(policy[index].text.strip())\r\n",
        "        index +=3\r\n",
        "  return jobPolicy\r\n",
        "\r\n",
        "extract_jobPolicy_from_result(soup)"
      ],
      "execution_count": 16,
      "outputs": [
        {
          "output_type": "execute_result",
          "data": {
            "text/plain": [
              "[]"
            ]
          },
          "metadata": {
            "tags": []
          },
          "execution_count": 16
        }
      ]
    },
    {
      "cell_type": "code",
      "metadata": {
        "colab": {
          "base_uri": "https://localhost:8080/"
        },
        "id": "qHZqQcYQanPz",
        "outputId": "21d3d186-6f4c-4b23-c409-d4d3fe78a3f4"
      },
      "source": [
        "def extract_salary_from_result(soup): \r\n",
        "  salaries = []\r\n",
        "  index = 1\r\n",
        "  for div in soup.find_all(name=\"div\", attrs={\"id\": \"jobs_collection\"}):\r\n",
        "    salary = div.find_all(name=\"div\", attrs={\"class\": \"block\"})\r\n",
        "    for b in salary:\r\n",
        "      while index < 50:\r\n",
        "        if salary[index].text.strip() == '':\r\n",
        "          salaries.append('N/A')\r\n",
        "        else:\r\n",
        "          salaries.append(salary[index].text.strip())\r\n",
        "        index+=2\r\n",
        "\r\n",
        "  return salaries\r\n",
        "extract_salary_from_result(soup)"
      ],
      "execution_count": 17,
      "outputs": [
        {
          "output_type": "execute_result",
          "data": {
            "text/plain": [
              "[]"
            ]
          },
          "metadata": {
            "tags": []
          },
          "execution_count": 17
        }
      ]
    },
    {
      "cell_type": "code",
      "metadata": {
        "colab": {
          "base_uri": "https://localhost:8080/"
        },
        "id": "RkxS8mZianMX",
        "outputId": "12f80644-2129-496e-ca31-c61845f74e2a"
      },
      "source": [
        "def extract_summary_from_result(soup): \r\n",
        "  summaries = []\r\n",
        "  index = 0\r\n",
        "  for div in soup.find_all(name=\"div\", attrs={\"id\": \"jobs_collection\"}):\r\n",
        "    summary = div.find_all(name=\"div\", attrs={\"class\": \"block\"})\r\n",
        "    for b in summary:\r\n",
        "      while index < 50:\r\n",
        "        summaries.append(summary[index].text.strip())\r\n",
        "        index+=2\r\n",
        "\r\n",
        "  return summaries\r\n",
        "\r\n",
        "extract_summary_from_result(soup)"
      ],
      "execution_count": 18,
      "outputs": [
        {
          "output_type": "execute_result",
          "data": {
            "text/plain": [
              "[]"
            ]
          },
          "metadata": {
            "tags": []
          },
          "execution_count": 18
        }
      ]
    },
    {
      "cell_type": "code",
      "metadata": {
        "colab": {
          "base_uri": "https://localhost:8080/"
        },
        "id": "iGLKYLPRanF0",
        "outputId": "ee560f02-74c6-4391-df75-d3c9554af7e8"
      },
      "source": [
        "def extract_job_age_from_result(soup):\r\n",
        "  jobAge = []\r\n",
        "  index = 0\r\n",
        "  for div in soup.find_all(name=\"div\", attrs={\"id\": \"jobs_collection\"}):\r\n",
        "    age = div.find_all(name=\"div\", attrs={\"class\": \"data-results-publish-time\"})\r\n",
        "    for b in age:\r\n",
        "      jobAge.append(b.text.strip())\r\n",
        "\r\n",
        "  return jobAge\r\n",
        "\r\n",
        "extract_job_age_from_result(soup)"
      ],
      "execution_count": 19,
      "outputs": [
        {
          "output_type": "execute_result",
          "data": {
            "text/plain": [
              "[]"
            ]
          },
          "metadata": {
            "tags": []
          },
          "execution_count": 19
        }
      ]
    },
    {
      "cell_type": "code",
      "metadata": {
        "id": "8T_uPiQWYjyd"
      },
      "source": [
        ""
      ],
      "execution_count": 19,
      "outputs": []
    }
  ]
}